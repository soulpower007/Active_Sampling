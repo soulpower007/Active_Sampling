{
 "cells": [
  {
   "cell_type": "markdown",
   "metadata": {
    "_cell_guid": "e1d0b632-9c74-4257-a3ff-c0782d04c47e",
    "_uuid": "3c0dd7fa9d7ab27ae84f311ae0616d7121d7e1d5"
   },
   "source": [
    "# PIMA Dataset Prediction Modelling with KERAS (~80%)\n",
    "---\n",
    "\n",
    "Implement a Deep Neural Network with KERAS on the Pima Indians Diabetes Database (https://www.kaggle.com/uciml/pima-indians-diabetes-database)"
   ]
  },
  {
   "cell_type": "code",
   "execution_count": 1,
   "metadata": {
    "_cell_guid": "b1076dfc-b9ad-4769-8c92-a6c4dae69d19",
    "_uuid": "8f2839f25d086af736a60e9eeb907d3b93b6e0e5",
    "scrolled": true
   },
   "outputs": [],
   "source": [
    "# This Python 3 environment comes with many helpful analytics libraries installed\n",
    "# It is defined by the kaggle/python docker image: https://github.com/kaggle/docker-python\n",
    "# For example, here's several helpful packages to load in \n",
    "\n",
    "import numpy as np # linear algebra\n",
    "import pandas as pd # data processing, CSV file I/O (e.g. pd.read_csv)\n",
    "\n",
    "from __future__ import print_function\n",
    "import tensorflow as tf\n",
    "from six.moves import range\n",
    "import numpy as np\n",
    "import os\n",
    "import sys\n",
    "\n",
    "from IPython.display import display, Image\n",
    "import matplotlib.pyplot as plt\n",
    "# Config the matlotlib backend as plotting inline in IPython\n",
    "%config InlineBackend.figure_format = 'retina'\n",
    "%matplotlib inline\n",
    "import seaborn as sns\n",
    "\n",
    "from sklearn.model_selection import train_test_split\n",
    "from sklearn.preprocessing import MinMaxScaler\n",
    "from sklearn.metrics import confusion_matrix,classification_report\n",
    "\n",
    "from tensorflow import keras\n",
    "from keras import models, layers, losses, optimizers, metrics\n",
    "\n",
    "# Input data files are available in the \"../input/\" directory.\n",
    "# For example, running this (by clicking run or pressing Shift+Enter) will list the files in the input directory\n",
    "\n",
    "import os\n",
    "# print(os.listdir(\"../input\"))\n",
    "\n",
    "# Any results you write to the current directory are saved as output."
   ]
  },
  {
   "cell_type": "markdown",
   "metadata": {
    "_cell_guid": "79c7e3d0-c299-4dcb-8224-4455121ee9b0",
    "_uuid": "d629ff2d2480ee46fbb7e2d37f6b5fab8052498a",
    "collapsed": true
   },
   "source": [
    "## Data Preprocessing"
   ]
  },
  {
   "cell_type": "code",
   "execution_count": 2,
   "metadata": {
    "_cell_guid": "f251e04c-8ad6-4e1c-86eb-252691af18c4",
    "_uuid": "aaad9d66c2373fe72ee8cbfb4919955fff9b34d3"
   },
   "outputs": [],
   "source": [
    "df = pd.read_csv('diabetes.csv')"
   ]
  },
  {
   "cell_type": "code",
   "execution_count": 3,
   "metadata": {
    "_cell_guid": "1f12b85e-8da6-4d7a-a1a5-423277e20968",
    "_uuid": "c0ebf98f750acd2f6ab0f150a54c84c92bf36fc7"
   },
   "outputs": [
    {
     "data": {
      "text/html": [
       "<div>\n",
       "<style scoped>\n",
       "    .dataframe tbody tr th:only-of-type {\n",
       "        vertical-align: middle;\n",
       "    }\n",
       "\n",
       "    .dataframe tbody tr th {\n",
       "        vertical-align: top;\n",
       "    }\n",
       "\n",
       "    .dataframe thead th {\n",
       "        text-align: right;\n",
       "    }\n",
       "</style>\n",
       "<table border=\"1\" class=\"dataframe\">\n",
       "  <thead>\n",
       "    <tr style=\"text-align: right;\">\n",
       "      <th></th>\n",
       "      <th>Pregnancies</th>\n",
       "      <th>Glucose</th>\n",
       "      <th>BloodPressure</th>\n",
       "      <th>SkinThickness</th>\n",
       "      <th>Insulin</th>\n",
       "      <th>BMI</th>\n",
       "      <th>DiabetesPedigreeFunction</th>\n",
       "      <th>Age</th>\n",
       "      <th>Outcome</th>\n",
       "    </tr>\n",
       "  </thead>\n",
       "  <tbody>\n",
       "    <tr>\n",
       "      <th>0</th>\n",
       "      <td>6</td>\n",
       "      <td>148</td>\n",
       "      <td>72</td>\n",
       "      <td>35</td>\n",
       "      <td>0</td>\n",
       "      <td>33.6</td>\n",
       "      <td>0.627</td>\n",
       "      <td>50</td>\n",
       "      <td>1</td>\n",
       "    </tr>\n",
       "    <tr>\n",
       "      <th>1</th>\n",
       "      <td>1</td>\n",
       "      <td>85</td>\n",
       "      <td>66</td>\n",
       "      <td>29</td>\n",
       "      <td>0</td>\n",
       "      <td>26.6</td>\n",
       "      <td>0.351</td>\n",
       "      <td>31</td>\n",
       "      <td>0</td>\n",
       "    </tr>\n",
       "    <tr>\n",
       "      <th>2</th>\n",
       "      <td>8</td>\n",
       "      <td>183</td>\n",
       "      <td>64</td>\n",
       "      <td>0</td>\n",
       "      <td>0</td>\n",
       "      <td>23.3</td>\n",
       "      <td>0.672</td>\n",
       "      <td>32</td>\n",
       "      <td>1</td>\n",
       "    </tr>\n",
       "    <tr>\n",
       "      <th>3</th>\n",
       "      <td>1</td>\n",
       "      <td>89</td>\n",
       "      <td>66</td>\n",
       "      <td>23</td>\n",
       "      <td>94</td>\n",
       "      <td>28.1</td>\n",
       "      <td>0.167</td>\n",
       "      <td>21</td>\n",
       "      <td>0</td>\n",
       "    </tr>\n",
       "    <tr>\n",
       "      <th>4</th>\n",
       "      <td>0</td>\n",
       "      <td>137</td>\n",
       "      <td>40</td>\n",
       "      <td>35</td>\n",
       "      <td>168</td>\n",
       "      <td>43.1</td>\n",
       "      <td>2.288</td>\n",
       "      <td>33</td>\n",
       "      <td>1</td>\n",
       "    </tr>\n",
       "  </tbody>\n",
       "</table>\n",
       "</div>"
      ],
      "text/plain": [
       "   Pregnancies  Glucose  BloodPressure  SkinThickness  Insulin   BMI  \\\n",
       "0            6      148             72             35        0  33.6   \n",
       "1            1       85             66             29        0  26.6   \n",
       "2            8      183             64              0        0  23.3   \n",
       "3            1       89             66             23       94  28.1   \n",
       "4            0      137             40             35      168  43.1   \n",
       "\n",
       "   DiabetesPedigreeFunction  Age  Outcome  \n",
       "0                     0.627   50        1  \n",
       "1                     0.351   31        0  \n",
       "2                     0.672   32        1  \n",
       "3                     0.167   21        0  \n",
       "4                     2.288   33        1  "
      ]
     },
     "execution_count": 3,
     "metadata": {},
     "output_type": "execute_result"
    }
   ],
   "source": [
    "df.head()"
   ]
  },
  {
   "cell_type": "code",
   "execution_count": 4,
   "metadata": {
    "_cell_guid": "7f7b72eb-4c87-406b-9f39-20bcab3bb9b5",
    "_uuid": "7b417453cc8072d1eb1f4483671186a3d807b429"
   },
   "outputs": [
    {
     "name": "stdout",
     "output_type": "stream",
     "text": [
      "500 268\n"
     ]
    }
   ],
   "source": [
    "# Splitting into training and testing datasets\n",
    "\n",
    "X = df.drop(['Outcome'], axis=1)\n",
    "Y = df['Outcome']\n",
    "# print( len( Y[] )\n",
    "y_1 = len(df[df.Outcome == 1])\n",
    "y_0 = len(df.Outcome) - y_1\n",
    "print(y_0, y_1)\n",
    "\n",
    "X_train, X_test, y_train, y_test = train_test_split(X, Y, test_size=0.3, random_state=101)"
   ]
  },
  {
   "cell_type": "markdown",
   "metadata": {
    "_cell_guid": "f27148be-22ce-475b-8803-457506bed94c",
    "_uuid": "1e1c5a27fc86c753c35ed8574a62325a357d5d13"
   },
   "source": [
    "---"
   ]
  },
  {
   "cell_type": "markdown",
   "metadata": {
    "_cell_guid": "1a70fafe-3c80-4010-992c-ac2d49def0ca",
    "_uuid": "85562dae6a8dd32c4bd27ca54d5476e52aad6785"
   },
   "source": [
    "## Data Visualization"
   ]
  },
  {
   "cell_type": "markdown",
   "metadata": {
    "_cell_guid": "ac0f0c45-8a9b-40cf-9bf9-333bf650258f",
    "_uuid": "0216c0277c31aad291142ccd689dbe7dd7e592d8"
   },
   "source": [
    "*I have used the following kernel as reference for Data Visualizations - ML From Scratch-Part 2 by I, Coder *"
   ]
  },
  {
   "cell_type": "markdown",
   "metadata": {
    "_cell_guid": "bca40c38-38ae-44a4-8fd1-e1fb95852738",
    "_uuid": "1e1f66ed25fab36c59319e857d7d353ffec64dc7"
   },
   "source": [
    "We first plot a 'histogram' of all data as-is."
   ]
  },
  {
   "cell_type": "code",
   "execution_count": 5,
   "metadata": {
    "_cell_guid": "bd120a37-073a-4b28-b080-dbb617724035",
    "_uuid": "40450dfe35b20b5e7687eeb5fc88c02033439e62"
   },
   "outputs": [],
   "source": [
    "# X.hist(figsize=(16,9), edgecolor=\"black\", bins=20)"
   ]
  },
  {
   "cell_type": "markdown",
   "metadata": {
    "_cell_guid": "a33038f5-9d01-47be-bfe3-054bea149f26",
    "_uuid": "8a1708a14ac3dd214c0001b3ea0780c851e3f6b1"
   },
   "source": [
    "Now, we plot the histogram of the Diabetic Outcomes"
   ]
  },
  {
   "cell_type": "code",
   "execution_count": 6,
   "metadata": {
    "_cell_guid": "080500ed-08fc-461a-8710-fd50f73086dc",
    "_uuid": "2cfc3921ab2b64324a0d527defb10ad7ab4d870c"
   },
   "outputs": [],
   "source": [
    "# # Diabetic Outcomes\n",
    "# x_aff = df[df['Outcome']==1]\n",
    "# x_aff.hist(figsize=(16,9), edgecolor=\"black\", bins=20)"
   ]
  },
  {
   "cell_type": "markdown",
   "metadata": {
    "_cell_guid": "985aebdd-372a-4f0c-aa28-817dd3be712b",
    "_uuid": "f8e244ef9baf00ce3aa229e34afe6462761b6c7d"
   },
   "source": [
    "Next, we plot the Pair Plots - A plot of all variables against the each other to get an idea about the distribution of diabetic and non-diabetic trend."
   ]
  },
  {
   "cell_type": "code",
   "execution_count": 7,
   "metadata": {
    "_cell_guid": "fe306de7-6724-4d1c-9660-1cae95e48a38",
    "_uuid": "84f50b2fd96bf654ff7387db0229b89cdc607dcb"
   },
   "outputs": [],
   "source": [
    "# sns.pairplot(df, hue='Outcome', markers=['o', 'x'], diag_kind='kde')"
   ]
  },
  {
   "cell_type": "markdown",
   "metadata": {
    "_cell_guid": "4ae96011-d07b-4a4a-a0ce-3a85bf973dbb",
    "_uuid": "e05010f3054a5703a76582a423d1d016053f4249"
   },
   "source": [
    "---"
   ]
  },
  {
   "cell_type": "markdown",
   "metadata": {
    "_cell_guid": "30dc3c97-6544-46c1-8046-a29683441eef",
    "_uuid": "723d4d2742a540043b18f9bfcca01681b2dc1be9"
   },
   "source": [
    "## Data Scaling\n",
    "\n",
    "We scale the data so as to increase the model accuracy."
   ]
  },
  {
   "cell_type": "code",
   "execution_count": 8,
   "metadata": {
    "_cell_guid": "09b71ec9-0d7f-44e2-b6ae-002cf2f75ef7",
    "_uuid": "42423677c70cbce8f7c7e085ee36a993b17f08ec"
   },
   "outputs": [],
   "source": [
    "scaler = MinMaxScaler()\n",
    "\n",
    "scaled_x_train = scaler.fit_transform(X_train)\n",
    "scaled_x_test = scaler.transform(X_test)"
   ]
  },
  {
   "cell_type": "markdown",
   "metadata": {
    "_cell_guid": "60c2f1ab-b210-48b4-b7aa-800e38a4f883",
    "_uuid": "69f3ebcf7caa97d2d3284b30cc097a91e6a91509"
   },
   "source": [
    "---"
   ]
  },
  {
   "cell_type": "markdown",
   "metadata": {
    "_cell_guid": "5c00ef05-b159-4b03-a8d1-7248cefb4031",
    "_uuid": "1037fa2fccccc27dcce40b18c466e2cd16bba394"
   },
   "source": [
    "## KERAS DATA MODEL"
   ]
  },
  {
   "cell_type": "markdown",
   "metadata": {
    "_cell_guid": "76939459-7a74-42ee-b525-a2c0f2de970c",
    "_uuid": "b16ce79c01256b5d0251f5ea6b1fc624ae4a8e41"
   },
   "source": [
    "We will use the following parameters in our implementation -\n",
    "\n",
    "* Hidden Layers - 3 , each consisiting of 8 neurons.\n",
    "* Activation - RELU for hidden, SOFTMAX for output layer.\n",
    "* Optimizer - SGD\n",
    "* Learning Rate Decay - 0.01\n",
    "* L2 Regularization\n"
   ]
  },
  {
   "cell_type": "code",
   "execution_count": 9,
   "metadata": {},
   "outputs": [],
   "source": [
    "class DataGenerator(keras.utils.Sequence):\n",
    "    'Generates data for Keras'\n",
    "    def __init__(self, list_IDs, labels, batch_size=32, dim=(32,32,32), n_channels=1,\n",
    "                 n_classes=10, shuffle=True):\n",
    "        'Initialization'\n",
    "        self.dim = dim\n",
    "        self.batch_size = batch_size\n",
    "        self.labels = labels\n",
    "        self.list_IDs = list_IDs\n",
    "        self.n_channels = n_channels\n",
    "        self.n_classes = n_classes\n",
    "        self.shuffle = shuffle\n",
    "        self.on_epoch_end()\n",
    "\n",
    "    def __len__(self):\n",
    "        'Denotes the number of batches per epoch'\n",
    "        return int(np.floor(len(self.list_IDs) / self.batch_size))\n",
    "\n",
    "    def __getitem__(self, index):\n",
    "        'Generate one batch of data'\n",
    "        # Generate indexes of the batch\n",
    "        indexes = self.indexes[index*self.batch_size:(index+1)*self.batch_size]\n",
    "\n",
    "        # Find list of IDs\n",
    "        list_IDs_temp = [self.list_IDs[k] for k in indexes]\n",
    "\n",
    "        # Generate data\n",
    "        X, y = self.__data_generation(list_IDs_temp)\n",
    "\n",
    "        return X, y\n",
    "\n",
    "    def on_epoch_end(self):\n",
    "        'Updates indexes after each epoch'\n",
    "        self.indexes = np.arange(len(self.list_IDs))\n",
    "        if self.shuffle == True:\n",
    "            np.random.shuffle(self.indexes)\n",
    "\n",
    "    def __data_generation(self, list_IDs_temp):\n",
    "        'Generates data containing batch_size samples' # X : (n_samples, *dim, n_channels)\n",
    "        # Initialization\n",
    "        X = np.empty((self.batch_size, *self.dim, self.n_channels))\n",
    "        y = np.empty((self.batch_size), dtype=int)\n",
    "\n",
    "        # Generate data\n",
    "        for i, ID in enumerate(list_IDs_temp):\n",
    "            # Store sample\n",
    "            X[i,] = np.load('data/' + ID + '.npy')\n",
    "\n",
    "            # Store class\n",
    "            y[i] = self.labels[ID]\n",
    "\n",
    "        return X, keras.utils.to_categorical(y, num_classes=self.n_classes)\n",
    "    \n",
    "    "
   ]
  },
  {
   "cell_type": "code",
   "execution_count": null,
   "metadata": {},
   "outputs": [],
   "source": []
  },
  {
   "cell_type": "code",
   "execution_count": 10,
   "metadata": {
    "_cell_guid": "24d41df9-22cc-4332-aa9a-ab834ae064ea",
    "_uuid": "db012f5d72130a391c7d889096f935c2fbef7867",
    "scrolled": true
   },
   "outputs": [
    {
     "name": "stderr",
     "output_type": "stream",
     "text": [
      "C:\\Users\\Sriph\\anaconda3\\lib\\site-packages\\keras\\optimizer_v2\\optimizer_v2.py:355: UserWarning: The `lr` argument is deprecated, use `learning_rate` instead.\n",
      "  warnings.warn(\n"
     ]
    }
   ],
   "source": [
    "# Create Keras DNN Model\n",
    "\n",
    "model = models.Sequential()\n",
    "\n",
    "# Hyperparameters\n",
    "hold_prob = 0.01\n",
    "beta = 1e-8\n",
    "alpha = 0.05\n",
    "lr_decay = 0.01\n",
    "iterations = 50\n",
    "# iterations = 400\n",
    "\n",
    "validation_split = 0.5\n",
    "opt_momentum = 0.9 # (Use only for SGD)\n",
    "batch_size = 64\n",
    "\n",
    "# Optimizer\n",
    "opt = tf.keras.optimizers.SGD(lr=alpha, decay=lr_decay, momentum=opt_momentum, nesterov=True)\n",
    "\n",
    "# First Layer\n",
    "model.add(layers.Dense(input_dim=8, units=8, activation='relu'))\n",
    "\n",
    "# Hidden Layers\n",
    "model.add(layers.Dense(units=8, activation='relu', kernel_regularizer=keras.regularizers.l2(beta)))\n",
    "model.add(layers.Dropout(hold_prob))\n",
    "\n",
    "model.add(layers.Dense(units=8, activation='relu', kernel_regularizer=keras.regularizers.l2(beta)))\n",
    "model.add(layers.Dropout(hold_prob))\n",
    "\n",
    "model.add(layers.Dense(units=8, activation='relu', kernel_regularizer=keras.regularizers.l2(beta)))\n",
    "model.add(layers.Dropout(hold_prob))\n",
    "\n",
    "# Output Layer\n",
    "model.add(layers.Dense(units=2, activation='softmax'))\n",
    "\n",
    "# Compiling the Model\n",
    "model.compile(optimizer=opt, loss='sparse_categorical_crossentropy', metrics=['accuracy'])\n",
    "\n",
    "\n",
    "\n",
    "\n",
    "###################################################################3\n",
    "# First Layer\n",
    "model1.add(layers.Dense(input_dim=8, units=8, activation='relu'))\n",
    "\n",
    "# Hidden Layers\n",
    "model1.add(layers.Dense(units=8, activation='relu', kernel_regularizer=keras.regularizers.l2(beta)))\n",
    "model1.add(layers.Dropout(hold_prob))\n",
    "\n",
    "model1.add(layers.Dense(units=8, activation='relu', kernel_regularizer=keras.regularizers.l2(beta)))\n",
    "model1.add(layers.Dropout(hold_prob))\n",
    "\n",
    "model1.add(layers.Dense(units=8, activation='relu', kernel_regularizer=keras.regularizers.l2(beta)))\n",
    "model1.add(layers.Dropout(hold_prob))\n",
    "\n",
    "# Output Layer\n",
    "model1.add(layers.Dense(units=2, activation='softmax'))\n",
    "\n",
    "# Compiling the Model\n",
    "model1.compile(optimizer=opt, loss='sparse_categorical_crossentropy', metrics=['accuracy'])\n",
    "\n",
    "\n"
   ]
  },
  {
   "cell_type": "code",
   "execution_count": null,
   "metadata": {},
   "outputs": [],
   "source": [
    "def eval_ratios(sx_train_g, sx_train_b, y_train_g, y_train_b, model):\n",
    "    test_g = model.test_on_batch(sx_train_g,y_train_g)\n",
    "    test_b = model.test_on_batch(sx_train_b,y_train_b)\n",
    "    return 1-test_g[1] + 0.1, 1-test_b[1] + 0.1\n",
    "\n",
    "import math\n",
    "# Train\n",
    "train_error_hist = list()\n",
    "test_error_hist = list()\n",
    "test_acc_hist = list()\n",
    "\n",
    "itr = 0\n",
    "n_batches = math.ceil(len(scaled_x_train) / batch_size)\n",
    "\n",
    "\n",
    "ratio_g = 1\n",
    "ratio_b = 1\n",
    "best_model = model\n",
    "best_acc = 0.1\n",
    "best_index = 0\n",
    "\n",
    "# sample_weight = np.random.rand(len(X_train_g[0]))\n",
    "\n",
    "while itr < 100:\n",
    "    \n",
    "    if itr%5 == 0:\n",
    "        print(itr)\n",
    "    \n",
    "    ptr_g = 0\n",
    "    ptr_b = 0\n",
    "\n",
    "    allot_num_g = 1\n",
    "    allot_num_b = 1\n",
    "\n",
    "    for i in range(n_batches):\n",
    "        \n",
    "        allot_num_g = ( ratio_g / (ratio_g + ratio_b) )*batch_size\n",
    "        allot_num_g = (int)(allot_num_g)\n",
    "        allot_num_b = batch_size - allot_num_g\n",
    "\n",
    "        X_batch = sx_train_g[ ptr_g: ptr_g+allot_num_g ]\n",
    "        tempp = sx_train_b[ ptr_b: ptr_b+allot_num_b]\n",
    "\n",
    "        X_batch = np.concatenate([X_batch, tempp])\n",
    "        \n",
    "\n",
    "        y_batch = y_train_g[ ptr_g: ptr_g+allot_num_g]\n",
    "        tempp = y_train_b[ ptr_b: ptr_b+allot_num_b]\n",
    "        \n",
    "        y_batch = pd.concat([y_batch, tempp])\n",
    "        \n",
    "#         print(ptr_g, ptr_b, allot_num_g, allot_num_b)\n",
    "#         print(len(y_batch[y_batch==1]),len(y_batch[y_batch==0])  )\n",
    "\n",
    "#         print(i,\"--------------------------------------------------------------\")\n",
    "#         print(X_batch)\n",
    "#         print(i,\"--------------------------------------------------------------\")\n",
    "#         print(y_batch)\n",
    "#         y_batch = np.concatenate((y_batch, tempp), axis=0 )\n",
    "        \n",
    "#         X_batch = scaled_x_train[i*batch_size:(i+1)*batch_size]\n",
    "#         y_batch = y_train[i*batch_size:(i+1)*batch_size]\n",
    "        \n",
    "        loss = model.train_on_batch(X_batch, y_batch)\n",
    "#         print(model.layers[0].weights)\n",
    "        train_error_hist.append(loss[0])\n",
    "        \n",
    "        loss1 = model.test_on_batch(scaled_x_test, y_test)\n",
    "#         test_error_hist.append(loss1[0])\n",
    "#         test_acc_hist.append(loss1[1])\n",
    "        if loss1[1] > best_acc:\n",
    "            best_model = model\n",
    "            best_index = itr*n_batches+i\n",
    "            \n",
    "        ratio_g, ratio_b = eval_ratios(sx_train_g, sx_train_b, y_train_g, y_train_b, model)\n",
    "#         ratio_g = 1\n",
    "#         ratio_b = 1\n",
    "        print(ratio_g, ratio_b)\n",
    "        ptr_b+=allot_num_b\n",
    "        ptr_g+=allot_num_g\n",
    "    loss1 = model.test_on_batch(scaled_x_test, y_test)\n",
    "    test_error_hist.append(loss1[0])\n",
    "    test_acc_hist.append(loss1[1])\n",
    "    itr = itr+1\n",
    "\n",
    "# model.fit(x=scaled_x_train, y=y_train, epochs=iterations, validation_split=validation_split, batch_size=batch_size)\n",
    "\n"
   ]
  },
  {
   "cell_type": "code",
   "execution_count": 11,
   "metadata": {},
   "outputs": [
    {
     "name": "stdout",
     "output_type": "stream",
     "text": [
      "537\n",
      "[[0.29411765 0.57788945 0.62295082 0.         0.         0.46497765\n",
      "  0.12573099 0.45098039]\n",
      " [0.52941176 0.65326633 0.57377049 0.         0.         0.50968703\n",
      "  0.27631579 0.47058824]]\n"
     ]
    }
   ],
   "source": [
    "print(len(scaled_x_train))\n",
    "print(scaled_x_train[535:600])\n",
    "# for i in range(5):\n",
    "#     print(i)"
   ]
  },
  {
   "cell_type": "code",
   "execution_count": 12,
   "metadata": {},
   "outputs": [
    {
     "name": "stdout",
     "output_type": "stream",
     "text": [
      "<class 'numpy.ndarray'> <class 'pandas.core.series.Series'>\n",
      "187\n",
      "350\n",
      "537\n",
      "<class 'pandas.core.series.Series'>\n"
     ]
    }
   ],
   "source": [
    "print( type(scaled_x_train), type(y_train))\n",
    "print(len(y_train[y_train==1]))\n",
    "print(len(y_train[y_train==0]))\n",
    "print(len(y_train))\n",
    "print(type(y_train))"
   ]
  },
  {
   "cell_type": "code",
   "execution_count": 13,
   "metadata": {},
   "outputs": [
    {
     "name": "stdout",
     "output_type": "stream",
     "text": [
      "<class 'numpy.ndarray'>\n"
     ]
    }
   ],
   "source": [
    "xtg = scaled_x_train[ y_train==0 ]\n",
    "xtb = scaled_x_train[ y_train==1 ]\n",
    "ytg = y_train[ y_train==0]\n",
    "ytb = y_train[ y_train==1]\n",
    "\n",
    "# print(scaled_x_train)\n",
    "# print(y_train)\n",
    "# print(xtg)\n",
    "# print(xtb)\n",
    "# print(ytg)\n",
    "print(type(scaled_x_train))\n"
   ]
  },
  {
   "cell_type": "code",
   "execution_count": 14,
   "metadata": {},
   "outputs": [
    {
     "name": "stdout",
     "output_type": "stream",
     "text": [
      "0\n",
      "5\n",
      "10\n",
      "15\n",
      "20\n",
      "25\n",
      "30\n",
      "35\n",
      "40\n",
      "45\n",
      "50\n",
      "55\n",
      "60\n",
      "65\n",
      "70\n",
      "75\n",
      "80\n",
      "85\n",
      "90\n",
      "95\n"
     ]
    }
   ],
   "source": [
    "import math\n",
    "# Train\n",
    "train_error_hist1 = list()\n",
    "test_error_hist1 = list()\n",
    "test_acc_hist1 = list()\n",
    "\n",
    "itr = 0\n",
    "n_batches = math.ceil(len(scaled_x_train) / batch_size)\n",
    "\n",
    "\n",
    "while itr < 100:\n",
    "    for i in range(n_batches):\n",
    "        X_batch = scaled_x_train[i*batch_size:(i+1)*batch_size]\n",
    "        y_batch = y_train[i*batch_size:(i+1)*batch_size]\n",
    "#         print(i)\n",
    "#         print(len(y_batch[y_batch==1]))\n",
    "    \n",
    "        loss = model1.train_on_batch(X_batch, y_batch)\n",
    "        train_error_hist1.append(loss[0])\n",
    "        loss1 = model1.test_on_batch(scaled_x_test, y_test)\n",
    "#         test_error_hist.append(loss1[0])\n",
    "#         test_acc_hist.append(loss1[1])\n",
    "#     if itr%5==0:\n",
    "#         print(itr)\n",
    "    loss1 = model1.test_on_batch(scaled_x_test, y_test)\n",
    "    test_error_hist1.append(loss1[0])\n",
    "    test_acc_hist1.append(loss1[1])\n",
    "    itr = itr+1\n",
    "\n",
    "# model.fit(x=scaled_x_train, y=y_train, epochs=iterations, validation_split=validation_split, batch_size=batch_size)\n",
    "\n"
   ]
  },
  {
   "cell_type": "code",
   "execution_count": null,
   "metadata": {},
   "outputs": [],
   "source": [
    "import math\n",
    "# Train\n",
    "train_error_hist = list()\n",
    "test_error_hist = list()\n",
    "test_acc_hist = list()\n",
    "\n",
    "itr = 0\n",
    "n_batches = math.ceil(len(scaled_x_train) / batch_size)\n",
    "\n",
    "\n",
    "while itr < 100:\n",
    "    for i in range(n_batches):\n",
    "        X_batch = scaled_x_train[i*batch_size:(i+1)*batch_size]\n",
    "        y_batch = y_train[i*batch_size:(i+1)*batch_size]\n",
    "#         print(i)\n",
    "#         print(len(y_batch[y_batch==1]))\n",
    "    \n",
    "        loss = model1.train_on_batch(X_batch, y_batch)\n",
    "        train_error_hist.append(loss[0])\n",
    "        loss1 = model1.test_on_batch(scaled_x_test, y_test)\n",
    "#         test_error_hist.append(loss1[0])\n",
    "#         test_acc_hist.append(loss1[1])\n",
    "    if itr%5==0:\n",
    "        print(itr)\n",
    "    loss1 = model1.test_on_batch(scaled_x_test, y_test)\n",
    "    test_error_hist.append(loss1[0])\n",
    "    test_acc_hist.append(loss1[1])\n",
    "    itr = itr+1"
   ]
  },
  {
   "cell_type": "markdown",
   "metadata": {
    "_cell_guid": "f2131116-b91b-45ff-a099-ff52c41cedd2",
    "_uuid": "88ceeea3a6440864342c923611c40499ab4b5247"
   },
   "source": [
    "\n",
    "**Training Accuracy ~ 80%**\n",
    "\n",
    "**Validation Accuracy ~ 74%**\n",
    "\n",
    "---"
   ]
  },
  {
   "cell_type": "markdown",
   "metadata": {
    "_cell_guid": "0a59d0a2-929d-44b0-a290-0840da515f7e",
    "_uuid": "3e9bcd6003e2abf8ec1f8aaeb2c8cd89d4df86a5"
   },
   "source": [
    "Let's check how our model performs on new data."
   ]
  },
  {
   "cell_type": "code",
   "execution_count": 15,
   "metadata": {
    "_cell_guid": "4973f745-086b-4bd7-bc63-f1aef1b4ccc1",
    "_uuid": "be4f329f2dc4877f735af4b421380875c0904b2d"
   },
   "outputs": [
    {
     "name": "stdout",
     "output_type": "stream",
     "text": [
      "              precision    recall  f1-score   support\n",
      "\n",
      "           0       0.85      0.81      0.83       150\n",
      "           1       0.68      0.73      0.70        81\n",
      "\n",
      "    accuracy                           0.78       231\n",
      "   macro avg       0.76      0.77      0.77       231\n",
      "weighted avg       0.79      0.78      0.79       231\n",
      "\n"
     ]
    }
   ],
   "source": [
    "predictions = model.predict(scaled_x_test)\n",
    "predictions=np.argmax(predictions,axis=1)\n",
    "print(classification_report(y_test, predictions))"
   ]
  },
  {
   "cell_type": "code",
   "execution_count": 1,
   "metadata": {
    "scrolled": true
   },
   "outputs": [],
   "source": [
    "# plt.plot(test_error_hist)\n",
    "# plt.plot(train_error_hist)\n",
    "# plt.xlabel(\"#Iterations\")\n",
    "# plt.ylabel(\"Total Loss\")\n",
    "# plt.title(\"Loss vs Number of iterations\")\n",
    "# plt.legend((\"Train error\", \"tet\"))"
   ]
  },
  {
   "cell_type": "code",
   "execution_count": 23,
   "metadata": {
    "scrolled": true
   },
   "outputs": [
    {
     "data": {
      "text/plain": [
       "<matplotlib.legend.Legend at 0x1b3548332b0>"
      ]
     },
     "execution_count": 23,
     "metadata": {},
     "output_type": "execute_result"
    },
    {
     "data": {
      "image/png": "[encoded data removed]",
      "text/plain": [
       "<Figure size 432x288 with 1 Axes>"
      ]
     },
     "metadata": {
      "image/png": {
       "height": 277,
       "width": 391
      },
      "needs_background": "light"
     },
     "output_type": "display_data"
    }
   ],
   "source": [
    "test_as = [0.649350643157959, 0.649350643157959, 0.649350643157959, 0.649350643157959, 0.649350643157959, 0.649350643157959, 0.649350643157959, 0.649350643157959, 0.649350643157959, 0.649350643157959, 0.649350643157959, 0.649350643157959, 0.649350643157959, 0.649350643157959, 0.649350643157959, 0.649350643157959, 0.649350643157959, 0.649350643157959, 0.649350643157959, 0.649350643157959, 0.649350643157959, 0.649350643157959, 0.649350643157959, 0.649350643157959, 0.649350643157959, 0.649350643157959, 0.649350643157959, 0.649350643157959, 0.649350643157959, 0.649350643157959, 0.649350643157959, 0.649350643157959, 0.649350643157959, 0.649350643157959, 0.649350643157959, 0.649350643157959, 0.649350643157959, 0.649350643157959, 0.649350643157959, 0.649350643157959, 0.649350643157959, 0.649350643157959, 0.649350643157959, 0.649350643157959, 0.649350643157959, 0.649350643157959, 0.649350643157959, 0.649350643157959, 0.649350643157959, 0.649350643157959, 0.649350643157959, 0.649350643157959, 0.649350643157959, 0.649350643157959, 0.649350643157959, 0.649350643157959, 0.649350643157959, 0.6450216174125671, 0.6450216174125671, 0.6450216174125671, 0.6450216174125671, 0.6536796689033508, 0.6753246784210205, 0.6839826703071594, 0.7229437232017517, 0.7445887327194214, 0.761904776096344, 0.761904776096344, 0.7532467246055603, 0.7532467246055603, 0.7532467246055603, 0.7445887327194214, 0.7489177584648132, 0.7532467246055603, 0.7532467246055603, 0.7532467246055603, 0.7575757503509521, 0.7575757503509521, 0.7662337422370911, 0.7705627679824829, 0.7748917937278748, 0.7705627679824829, 0.7792207598686218, 0.7792207598686218, 0.7792207598686218, 0.7878788113594055, 0.7792207598686218, 0.7748917937278748, 0.7792207598686218, 0.7792207598686218, 0.7835497856140137, 0.7792207598686218, 0.7792207598686218, 0.7835497856140137, 0.7835497856140137, 0.7878788113594055, 0.7878788113594055, 0.7922077775001526, 0.7878788113594055, 0.7922077775001526]\n",
    "plt.plot(test_as)\n",
    "plt.plot(test_acc_hist)\n",
    "plt.xlabel(\"#\")\n",
    "plt.ylabel(\"Total Loss\")\n",
    "plt.title(\"Loss vs Number of iterations\")\n",
    "plt.legend((\"Active Sampling\", \"Without Active sampling\"))"
   ]
  },
  {
   "cell_type": "markdown",
   "metadata": {
    "_cell_guid": "24cdd6ee-83c1-47b1-8f44-a160ad86cd42",
    "_uuid": "d77600451953acc735d79f379b43d5065c0a63a0"
   },
   "source": [
    "### Conclusion\n",
    "\n",
    "Thus, with considerable hyperparameter tuning, we can achieve an accuracy of ~76-79% with KERAS, which is a decent accuracy level."
   ]
  },
  {
   "cell_type": "code",
   "execution_count": 18,
   "metadata": {},
   "outputs": [
    {
     "name": "stdout",
     "output_type": "stream",
     "text": [
      "['loss', 'accuracy']\n"
     ]
    }
   ],
   "source": [
    "print(model.metrics_names)"
   ]
  },
  {
   "cell_type": "code",
   "execution_count": 19,
   "metadata": {},
   "outputs": [
    {
     "name": "stdout",
     "output_type": "stream",
     "text": [
      "[0.46432191133499146, 0.7835497856140137]\n"
     ]
    }
   ],
   "source": [
    "loss1 = model.test_on_batch(scaled_x_test, y_test)\n",
    "print(loss1)"
   ]
  },
  {
   "cell_type": "code",
   "execution_count": 20,
   "metadata": {},
   "outputs": [
    {
     "name": "stdout",
     "output_type": "stream",
     "text": [
      "0.7922077775001526\n"
     ]
    }
   ],
   "source": [
    "print(np.max(test_acc_hist))"
   ]
  },
  {
   "cell_type": "code",
   "execution_count": 21,
   "metadata": {},
   "outputs": [
    {
     "name": "stdout",
     "output_type": "stream",
     "text": [
      "0.7835497856140137\n"
     ]
    }
   ],
   "source": [
    "print(test_acc_hist[-1])"
   ]
  },
  {
   "cell_type": "code",
   "execution_count": 31,
   "metadata": {},
   "outputs": [],
   "source": [
    "from sklearn.metrics import classification_report, confusion_matrix\n",
    "\n",
    "def myfunc(x):\n",
    "    if x[0]>x[1]:\n",
    "        return 0\n",
    "    return 1"
   ]
  },
  {
   "cell_type": "code",
   "execution_count": 36,
   "metadata": {},
   "outputs": [
    {
     "name": "stdout",
     "output_type": "stream",
     "text": [
      "              precision    recall  f1-score   support\n",
      "\n",
      "           0       0.85      0.81      0.83       150\n",
      "           1       0.68      0.73      0.70        81\n",
      "\n",
      "    accuracy                           0.78       231\n",
      "   macro avg       0.76      0.77      0.77       231\n",
      "weighted avg       0.79      0.78      0.79       231\n",
      "\n",
      "[[122  28]\n",
      " [ 22  59]]\n"
     ]
    }
   ],
   "source": [
    "y_pred = model.predict(scaled_x_test)\n",
    "# print(y_test)\n",
    "for i in range(len(y_pred)):\n",
    "    y_pred[i][0] = myfunc(y_pred[i])\n",
    "# print(y_pred.T[0])\n",
    "print(classification_report(y_test, y_pred.T[0]))\n",
    "print(confusion_matrix(y_test, y_pred.T[0]))"
   ]
  },
  {
   "cell_type": "code",
   "execution_count": null,
   "metadata": {},
   "outputs": [],
   "source": []
  }
 ],
 "metadata": {
  "kernelspec": {
   "display_name": "Python 3",
   "language": "python",
   "name": "python3"
  },
  "language_info": {
   "codemirror_mode": {
    "name": "ipython",
    "version": 3
   },
   "file_extension": ".py",
   "mimetype": "text/x-python",
   "name": "python",
   "nbconvert_exporter": "python",
   "pygments_lexer": "ipython3",
   "version": "3.8.5"
  }
 },
 "nbformat": 4,
 "nbformat_minor": 1
}
